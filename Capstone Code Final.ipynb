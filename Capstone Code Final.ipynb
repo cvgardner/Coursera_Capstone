{
 "cells": [
  {
   "cell_type": "markdown",
   "metadata": {},
   "source": [
    "# Business Understanding\n",
    "\n",
    "The problem for this project is to determine the severity of car crashes on a certain day based on various weather and road conditions. This has many business applications from healthcare systems (having more emergency medical technicians EMTs on call) to a company based on this concept to warn users to be careful on the road when high severity crashes are more likely. \n",
    "\n",
    "For the duration of the project we will the goal of this model is to provide a healthcare system information on the predicted severity of vehicle collisions so that they can appropriately designate EMTs and ER resources to deal with the approriate levels of demand.\n",
    "\n",
    "This is very valuable for hospitals to be able to understand these trends from financial and philanthropic perspectives. Hospitals are also businesses and to be able to optimize their staff for low severity days allows the hospital to spend less money which can work towards the benefit of other systems within the hospital. From a philanthropic perspective providing more staff on high severity days will reduce the amount of injuries which escalate in severity due to lack of efficient or timely care. \n",
    "\n",
    "In a more complicated system this type of prediction could help Ambulances avoid high crash severity areas when delivering patients. "
   ]
  },
  {
   "cell_type": "markdown",
   "metadata": {},
   "source": [
    "# DATA\n",
    "\n",
    "To understand and address the need for prediction of vehicle collision severity based on weather conditions we need to find the appropriate data. The IBM Data Science course has a provided us with shared data to as an example but also recommends we look for other data sources. \n",
    "\n",
    "We would like to had data features such as, road conditions, lighting, and weather.\n",
    "\n",
    "I've collected data from [data.gov](data.gov) for ny vehicle collisions as well as weather data from [NOAA](https://www.ncdc.noaa.gov/). I'll be combining these two data sources to understand the weather conditions on the days of a crash so that we can predicte severity based on that. I'll compare this combined datasource against the IBM datasource to ensure we have enough quality data to create a model with our derived data. If not we'll go with the IBM Shared data.\n",
    "\n",
    "[Documentation for NOAA data](https://www1.ncdc.noaa.gov/pub/data/cdo/documentation/GHCND_documentation.pdf)\n",
    "\n",
    "**I have done the work for my collected data in a previous notebook. After cleaning and balancing the data I noticed that there was little to no correlation with crash severity or frequency. I believe that this is moreso to do with the quality and quantity of the data rather than a lack of correlation. Thus I need to go and collect more data, in the interest of time I'll be using the GISWEB Collision data that IBM's DATA SCIENCE course has pointed me to.**\n"
   ]
  },
  {
   "cell_type": "code",
   "execution_count": 1,
   "metadata": {},
   "outputs": [],
   "source": [
    "import pandas as pd\n",
    "import numpy as np\n",
    "import matplotlib.pyplot as plt\n",
    "import seaborn as sns"
   ]
  },
  {
   "cell_type": "code",
   "execution_count": 71,
   "metadata": {},
   "outputs": [
    {
     "name": "stderr",
     "output_type": "stream",
     "text": [
      "C:\\anaconda3\\lib\\site-packages\\IPython\\core\\interactiveshell.py:3063: DtypeWarning: Columns (33) have mixed types.Specify dtype option on import or set low_memory=False.\n",
      "  interactivity=interactivity, compiler=compiler, result=result)\n"
     ]
    },
    {
     "data": {
      "text/html": [
       "<div>\n",
       "<style scoped>\n",
       "    .dataframe tbody tr th:only-of-type {\n",
       "        vertical-align: middle;\n",
       "    }\n",
       "\n",
       "    .dataframe tbody tr th {\n",
       "        vertical-align: top;\n",
       "    }\n",
       "\n",
       "    .dataframe thead th {\n",
       "        text-align: right;\n",
       "    }\n",
       "</style>\n",
       "<table border=\"1\" class=\"dataframe\">\n",
       "  <thead>\n",
       "    <tr style=\"text-align: right;\">\n",
       "      <th></th>\n",
       "      <th>SEVERITYCODE</th>\n",
       "      <th>X</th>\n",
       "      <th>Y</th>\n",
       "      <th>OBJECTID</th>\n",
       "      <th>INCKEY</th>\n",
       "      <th>COLDETKEY</th>\n",
       "      <th>REPORTNO</th>\n",
       "      <th>STATUS</th>\n",
       "      <th>ADDRTYPE</th>\n",
       "      <th>INTKEY</th>\n",
       "      <th>...</th>\n",
       "      <th>ROADCOND</th>\n",
       "      <th>LIGHTCOND</th>\n",
       "      <th>PEDROWNOTGRNT</th>\n",
       "      <th>SDOTCOLNUM</th>\n",
       "      <th>SPEEDING</th>\n",
       "      <th>ST_COLCODE</th>\n",
       "      <th>ST_COLDESC</th>\n",
       "      <th>SEGLANEKEY</th>\n",
       "      <th>CROSSWALKKEY</th>\n",
       "      <th>HITPARKEDCAR</th>\n",
       "    </tr>\n",
       "  </thead>\n",
       "  <tbody>\n",
       "    <tr>\n",
       "      <th>0</th>\n",
       "      <td>2</td>\n",
       "      <td>-122.323148</td>\n",
       "      <td>47.703140</td>\n",
       "      <td>1</td>\n",
       "      <td>1307</td>\n",
       "      <td>1307</td>\n",
       "      <td>3502005</td>\n",
       "      <td>Matched</td>\n",
       "      <td>Intersection</td>\n",
       "      <td>37475.0</td>\n",
       "      <td>...</td>\n",
       "      <td>Wet</td>\n",
       "      <td>Daylight</td>\n",
       "      <td>NaN</td>\n",
       "      <td>NaN</td>\n",
       "      <td>NaN</td>\n",
       "      <td>10</td>\n",
       "      <td>Entering at angle</td>\n",
       "      <td>0</td>\n",
       "      <td>0</td>\n",
       "      <td>N</td>\n",
       "    </tr>\n",
       "    <tr>\n",
       "      <th>1</th>\n",
       "      <td>1</td>\n",
       "      <td>-122.347294</td>\n",
       "      <td>47.647172</td>\n",
       "      <td>2</td>\n",
       "      <td>52200</td>\n",
       "      <td>52200</td>\n",
       "      <td>2607959</td>\n",
       "      <td>Matched</td>\n",
       "      <td>Block</td>\n",
       "      <td>NaN</td>\n",
       "      <td>...</td>\n",
       "      <td>Wet</td>\n",
       "      <td>Dark - Street Lights On</td>\n",
       "      <td>NaN</td>\n",
       "      <td>6354039.0</td>\n",
       "      <td>NaN</td>\n",
       "      <td>11</td>\n",
       "      <td>From same direction - both going straight - bo...</td>\n",
       "      <td>0</td>\n",
       "      <td>0</td>\n",
       "      <td>N</td>\n",
       "    </tr>\n",
       "    <tr>\n",
       "      <th>2</th>\n",
       "      <td>1</td>\n",
       "      <td>-122.334540</td>\n",
       "      <td>47.607871</td>\n",
       "      <td>3</td>\n",
       "      <td>26700</td>\n",
       "      <td>26700</td>\n",
       "      <td>1482393</td>\n",
       "      <td>Matched</td>\n",
       "      <td>Block</td>\n",
       "      <td>NaN</td>\n",
       "      <td>...</td>\n",
       "      <td>Dry</td>\n",
       "      <td>Daylight</td>\n",
       "      <td>NaN</td>\n",
       "      <td>4323031.0</td>\n",
       "      <td>NaN</td>\n",
       "      <td>32</td>\n",
       "      <td>One parked--one moving</td>\n",
       "      <td>0</td>\n",
       "      <td>0</td>\n",
       "      <td>N</td>\n",
       "    </tr>\n",
       "    <tr>\n",
       "      <th>3</th>\n",
       "      <td>1</td>\n",
       "      <td>-122.334803</td>\n",
       "      <td>47.604803</td>\n",
       "      <td>4</td>\n",
       "      <td>1144</td>\n",
       "      <td>1144</td>\n",
       "      <td>3503937</td>\n",
       "      <td>Matched</td>\n",
       "      <td>Block</td>\n",
       "      <td>NaN</td>\n",
       "      <td>...</td>\n",
       "      <td>Dry</td>\n",
       "      <td>Daylight</td>\n",
       "      <td>NaN</td>\n",
       "      <td>NaN</td>\n",
       "      <td>NaN</td>\n",
       "      <td>23</td>\n",
       "      <td>From same direction - all others</td>\n",
       "      <td>0</td>\n",
       "      <td>0</td>\n",
       "      <td>N</td>\n",
       "    </tr>\n",
       "    <tr>\n",
       "      <th>4</th>\n",
       "      <td>2</td>\n",
       "      <td>-122.306426</td>\n",
       "      <td>47.545739</td>\n",
       "      <td>5</td>\n",
       "      <td>17700</td>\n",
       "      <td>17700</td>\n",
       "      <td>1807429</td>\n",
       "      <td>Matched</td>\n",
       "      <td>Intersection</td>\n",
       "      <td>34387.0</td>\n",
       "      <td>...</td>\n",
       "      <td>Wet</td>\n",
       "      <td>Daylight</td>\n",
       "      <td>NaN</td>\n",
       "      <td>4028032.0</td>\n",
       "      <td>NaN</td>\n",
       "      <td>10</td>\n",
       "      <td>Entering at angle</td>\n",
       "      <td>0</td>\n",
       "      <td>0</td>\n",
       "      <td>N</td>\n",
       "    </tr>\n",
       "  </tbody>\n",
       "</table>\n",
       "<p>5 rows × 38 columns</p>\n",
       "</div>"
      ],
      "text/plain": [
       "   SEVERITYCODE           X          Y  OBJECTID  INCKEY  COLDETKEY REPORTNO  \\\n",
       "0             2 -122.323148  47.703140         1    1307       1307  3502005   \n",
       "1             1 -122.347294  47.647172         2   52200      52200  2607959   \n",
       "2             1 -122.334540  47.607871         3   26700      26700  1482393   \n",
       "3             1 -122.334803  47.604803         4    1144       1144  3503937   \n",
       "4             2 -122.306426  47.545739         5   17700      17700  1807429   \n",
       "\n",
       "    STATUS      ADDRTYPE   INTKEY  ... ROADCOND                LIGHTCOND  \\\n",
       "0  Matched  Intersection  37475.0  ...      Wet                 Daylight   \n",
       "1  Matched         Block      NaN  ...      Wet  Dark - Street Lights On   \n",
       "2  Matched         Block      NaN  ...      Dry                 Daylight   \n",
       "3  Matched         Block      NaN  ...      Dry                 Daylight   \n",
       "4  Matched  Intersection  34387.0  ...      Wet                 Daylight   \n",
       "\n",
       "  PEDROWNOTGRNT  SDOTCOLNUM SPEEDING ST_COLCODE  \\\n",
       "0           NaN         NaN      NaN         10   \n",
       "1           NaN   6354039.0      NaN         11   \n",
       "2           NaN   4323031.0      NaN         32   \n",
       "3           NaN         NaN      NaN         23   \n",
       "4           NaN   4028032.0      NaN         10   \n",
       "\n",
       "                                          ST_COLDESC  SEGLANEKEY  \\\n",
       "0                                  Entering at angle           0   \n",
       "1  From same direction - both going straight - bo...           0   \n",
       "2                             One parked--one moving           0   \n",
       "3                   From same direction - all others           0   \n",
       "4                                  Entering at angle           0   \n",
       "\n",
       "   CROSSWALKKEY  HITPARKEDCAR  \n",
       "0             0             N  \n",
       "1             0             N  \n",
       "2             0             N  \n",
       "3             0             N  \n",
       "4             0             N  \n",
       "\n",
       "[5 rows x 38 columns]"
      ]
     },
     "execution_count": 71,
     "metadata": {},
     "output_type": "execute_result"
    }
   ],
   "source": [
    "df = pd.read_csv(\"data/Data-Collisions.csv\")\n",
    "df.head()"
   ]
  },
  {
   "cell_type": "code",
   "execution_count": 72,
   "metadata": {},
   "outputs": [
    {
     "data": {
      "text/plain": [
       "1    136485\n",
       "2     58188\n",
       "Name: SEVERITYCODE, dtype: int64"
      ]
     },
     "execution_count": 72,
     "metadata": {},
     "output_type": "execute_result"
    }
   ],
   "source": [
    "df.SEVERITYCODE.value_counts() # Check for data balance"
   ]
  },
  {
   "cell_type": "code",
   "execution_count": 73,
   "metadata": {},
   "outputs": [],
   "source": [
    "def undersample(df, feature):\n",
    "    df_0 = df[df.SEVERITYCODE == 1]\n",
    "    df_1 = df[df.SEVERITYCODE == 2]\n",
    "\n",
    "    df_0_undersample = df_0.sample(df[feature].value_counts()[2])\n",
    "\n",
    "    return pd.concat([df_0_undersample, df_1], axis=0)"
   ]
  },
  {
   "cell_type": "code",
   "execution_count": 74,
   "metadata": {},
   "outputs": [
    {
     "data": {
      "text/plain": [
       "2    58188\n",
       "1    58188\n",
       "Name: SEVERITYCODE, dtype: int64"
      ]
     },
     "execution_count": 74,
     "metadata": {},
     "output_type": "execute_result"
    }
   ],
   "source": [
    "df_balanced = undersample(df, 'SEVERITYCODE')\n",
    "df_balanced.SEVERITYCODE.value_counts()"
   ]
  },
  {
   "cell_type": "markdown",
   "metadata": {},
   "source": [
    "### Start by doing exploratory data analysis on features we'd expect to predict crash severity."
   ]
  },
  {
   "cell_type": "markdown",
   "metadata": {},
   "source": [
    "Starting with The Address Type. This feature is very valuable for both an individual seeking to avoid high severity crash locations as well as positioning EMTs in high risk locations on high risk days. "
   ]
  },
  {
   "cell_type": "code",
   "execution_count": 6,
   "metadata": {},
   "outputs": [
    {
     "data": {
      "image/png": "[encoded data removed]",
      "text/plain": [
       "<Figure size 444x360 with 1 Axes>"
      ]
     },
     "metadata": {
      "needs_background": "light"
     },
     "output_type": "display_data"
    }
   ],
   "source": [
    "sns.catplot(x='ADDRTYPE', hue='SEVERITYCODE',kind='count' , data=df_balanced[['SEVERITYCODE', 'ADDRTYPE']])\n",
    "plt.show()"
   ]
  },
  {
   "cell_type": "markdown",
   "metadata": {},
   "source": [
    "We can also examine the time of day that a crash occurs. We can break the day into 3 segments to determine if higher severity crashes are correlated with a time of day the crash occured. HOWEVER we are interested in this mainly because of the light conditions that change throughout the day and there already exists a LIGHTCOND feature. So we should examine the impact of the lighting on severity."
   ]
  },
  {
   "cell_type": "code",
   "execution_count": 7,
   "metadata": {
    "scrolled": true
   },
   "outputs": [
    {
     "data": {
      "image/png": "[encoded data removed]",
      "text/plain": [
       "<Figure size 444x360 with 1 Axes>"
      ]
     },
     "metadata": {
      "needs_background": "light"
     },
     "output_type": "display_data"
    }
   ],
   "source": [
    "sns.catplot(y='LIGHTCOND', hue='SEVERITYCODE', kind='count',data=df_balanced)\n",
    "plt.show()"
   ]
  },
  {
   "cell_type": "markdown",
   "metadata": {},
   "source": [
    "It looks like there isn't much to work with here. Daylight seems to be skewed more towards high severity but since the only lighting condition which is primarily low severity is UNKNOWN we can't derive any valuable insights from this data feature.\n",
    "\n",
    "Next we'll explore the weather and road conditions to look for correlations to crash severity."
   ]
  },
  {
   "cell_type": "code",
   "execution_count": 8,
   "metadata": {},
   "outputs": [
    {
     "data": {
      "image/png": "[encoded data removed]",
      "text/plain": [
       "<Figure size 444x360 with 1 Axes>"
      ]
     },
     "metadata": {
      "needs_background": "light"
     },
     "output_type": "display_data"
    }
   ],
   "source": [
    "feature = 'WEATHER'\n",
    "sns.catplot(y=feature, hue='SEVERITYCODE',kind='count' , data=df_balanced[['SEVERITYCODE', feature]])\n",
    "plt.show()"
   ]
  },
  {
   "cell_type": "markdown",
   "metadata": {},
   "source": [
    "Again for weather we see a similar issue with UNKNOWN data making up the majority of low severity crashes. And therefore cannot provide any actionable insights. If we choose not to include the UNKNOWNS we might end up skewing our model more to high severity predictions."
   ]
  },
  {
   "cell_type": "code",
   "execution_count": 9,
   "metadata": {},
   "outputs": [
    {
     "data": {
      "image/png": "[encoded data removed]",
      "text/plain": [
       "<Figure size 444x360 with 1 Axes>"
      ]
     },
     "metadata": {
      "needs_background": "light"
     },
     "output_type": "display_data"
    }
   ],
   "source": [
    "feature = 'ROADCOND'\n",
    "sns.catplot(y=feature, hue='SEVERITYCODE',kind='count' , data=df_balanced[['SEVERITYCODE', feature]])\n",
    "plt.show()"
   ]
  },
  {
   "cell_type": "markdown",
   "metadata": {},
   "source": [
    "This problem of unknowns persists through all the features that we'd like to predict on. The other details of crashes are not features that are easy to know before a crash occurs. Such as innattention, hitting a parked car and collision type. \n",
    "\n",
    "Some features such as Speeding and UnderInfluence could be cross-referenced with dates/locations where speeding/driving under influence are more likely to help allocated EMT services for quicker response times. While these questions may provide valuable insights it is not relevant to a day-to-day allocation of EMTs for budgeting/speed of response. This is because speeding/dui behaviors are typically occuring more frequently during holidays and only predicting a few days of the year is low yield.\n",
    "\n",
    "We'll assess the data by removing unknowns and also by replacing unknowns with the mode. Both of these methods have reasoning behind them. Dropping unknowns would be supported by the fact unknowns don't provide valuable interpretable information. The reason to fill them is that the graphs above them show that there is some serious predictive power located in them so we may not be able to afford losing them. Thus we can fill back assuming that the data was collected similarly to the most common value. "
   ]
  },
  {
   "cell_type": "code",
   "execution_count": 10,
   "metadata": {},
   "outputs": [
    {
     "name": "stderr",
     "output_type": "stream",
     "text": [
      "C:\\anaconda3\\lib\\site-packages\\ipykernel_launcher.py:3: UserWarning: Boolean Series key will be reindexed to match DataFrame index.\n",
      "  This is separate from the ipykernel package so we can avoid doing imports until\n",
      "C:\\anaconda3\\lib\\site-packages\\ipykernel_launcher.py:4: UserWarning: Boolean Series key will be reindexed to match DataFrame index.\n",
      "  after removing the cwd from sys.path.\n"
     ]
    }
   ],
   "source": [
    "df_dropped = df.copy(deep=True)\n",
    "df_dropped = df_dropped[df.ROADCOND != 'Unknown']\n",
    "df_dropped = df_dropped[df.WEATHER != 'Unknown']\n",
    "df_dropped = df_dropped[df.LIGHTCOND != 'Unknown']"
   ]
  },
  {
   "cell_type": "code",
   "execution_count": 11,
   "metadata": {},
   "outputs": [
    {
     "data": {
      "text/plain": [
       "1    118788\n",
       "2     56983\n",
       "Name: SEVERITYCODE, dtype: int64"
      ]
     },
     "execution_count": 11,
     "metadata": {},
     "output_type": "execute_result"
    }
   ],
   "source": [
    "df_dropped.SEVERITYCODE.value_counts()"
   ]
  },
  {
   "cell_type": "code",
   "execution_count": 12,
   "metadata": {},
   "outputs": [
    {
     "data": {
      "text/plain": [
       "2    56983\n",
       "1    56983\n",
       "Name: SEVERITYCODE, dtype: int64"
      ]
     },
     "execution_count": 12,
     "metadata": {},
     "output_type": "execute_result"
    }
   ],
   "source": [
    "df_dropped = undersample(df_dropped, 'SEVERITYCODE')\n",
    "df_dropped.SEVERITYCODE.value_counts()"
   ]
  },
  {
   "cell_type": "markdown",
   "metadata": {},
   "source": [
    "We've now removed the low value datapoints and we can evaluate the usefulness of the desired features in WEATHER, ROADCOND, AND LIGHTCOND"
   ]
  },
  {
   "cell_type": "code",
   "execution_count": 13,
   "metadata": {},
   "outputs": [
    {
     "data": {
      "image/png": "[encoded data removed]",
      "text/plain": [
       "<Figure size 444x360 with 1 Axes>"
      ]
     },
     "metadata": {
      "needs_background": "light"
     },
     "output_type": "display_data"
    }
   ],
   "source": [
    "sns.catplot(y='LIGHTCOND', hue='SEVERITYCODE', kind='count',data=df_dropped)\n",
    "plt.show()"
   ]
  },
  {
   "cell_type": "code",
   "execution_count": 14,
   "metadata": {},
   "outputs": [
    {
     "data": {
      "image/png": "[encoded data removed]",
      "text/plain": [
       "<Figure size 444x360 with 1 Axes>"
      ]
     },
     "metadata": {
      "needs_background": "light"
     },
     "output_type": "display_data"
    }
   ],
   "source": [
    "sns.catplot(y='ROADCOND', hue='SEVERITYCODE', kind='count',data=df_dropped)\n",
    "plt.show()"
   ]
  },
  {
   "cell_type": "code",
   "execution_count": 15,
   "metadata": {},
   "outputs": [
    {
     "data": {
      "image/png": "[encoded data removed]",
      "text/plain": [
       "<Figure size 444x360 with 1 Axes>"
      ]
     },
     "metadata": {
      "needs_background": "light"
     },
     "output_type": "display_data"
    }
   ],
   "source": [
    "sns.catplot(y='WEATHER', hue='SEVERITYCODE', kind='count',data=df_dropped)\n",
    "plt.show()"
   ]
  },
  {
   "cell_type": "markdown",
   "metadata": {},
   "source": [
    "The second option for dealing with unknowns is to replace them with the mode data value. Using a fill option instead of dropping them. In this case we'll be replacing as follows \n",
    "\n",
    " - LIGHTCOND -> \"Daylight\"\n",
    " - WEATHER -> \"Clear\"\n",
    " - ROADCOND -> \"Dry\""
   ]
  },
  {
   "cell_type": "code",
   "execution_count": 79,
   "metadata": {},
   "outputs": [],
   "source": [
    "df_replace = df_balanced.copy(deep=True)\n",
    "df_replace.LIGHTCOND.replace('Unknown','Daylight', inplace=True)\n",
    "df_replace.WEATHER.replace('Unknown','Clear', inplace=True)\n",
    "df_replace.ROADCOND.replace('Unknown','Dry', inplace=True)"
   ]
  },
  {
   "cell_type": "code",
   "execution_count": 80,
   "metadata": {},
   "outputs": [
    {
     "data": {
      "image/png": "[encoded data removed]",
      "text/plain": [
       "<Figure size 444x360 with 1 Axes>"
      ]
     },
     "metadata": {
      "needs_background": "light"
     },
     "output_type": "display_data"
    }
   ],
   "source": [
    "sns.catplot(y='LIGHTCOND', hue='SEVERITYCODE', kind='count',data=df_replace)\n",
    "plt.show()"
   ]
  },
  {
   "cell_type": "code",
   "execution_count": 81,
   "metadata": {},
   "outputs": [
    {
     "data": {
      "image/png": "[encoded data removed]",
      "text/plain": [
       "<Figure size 444x360 with 1 Axes>"
      ]
     },
     "metadata": {
      "needs_background": "light"
     },
     "output_type": "display_data"
    }
   ],
   "source": [
    "sns.catplot(y='WEATHER', hue='SEVERITYCODE', kind='count',data=df_replace)\n",
    "plt.show()"
   ]
  },
  {
   "cell_type": "code",
   "execution_count": 82,
   "metadata": {},
   "outputs": [
    {
     "data": {
      "image/png": "[encoded data removed]",
      "text/plain": [
       "<Figure size 444x360 with 1 Axes>"
      ]
     },
     "metadata": {
      "needs_background": "light"
     },
     "output_type": "display_data"
    }
   ],
   "source": [
    "sns.catplot(y='ROADCOND', hue='SEVERITYCODE', kind='count',data=df_replace)\n",
    "plt.show()"
   ]
  },
  {
   "cell_type": "markdown",
   "metadata": {},
   "source": [
    "### DATA PREPARATION + FEATURE CREATION\n",
    "\n",
    "Its very clear that dropping the unknowns creates a large gap in the data and thus moving forward we'll be using the data from df_replace which converted \"Unknown\" to the most common data value.\n",
    "\n",
    "We can start prepping this data to be ready for the model. We'll use one-hot encoding for the ADDRTYPE feature and change LIGHTCOND into a binary 0s = Dark, 1 = Daylight. since those are the two primary categories we see and they effects on crash severity are in-line with those simplified categories. \n",
    "\n",
    "We aren't quite done with data exploration though. I'd like to investigate feature interactions between WEATHER, LIGHTCOND and ROADCND. Its possible that these features have a higher impact on crash severity prediction in combination than alone. We'll determine this by a one-hot encoding and multiplication between the most common features."
   ]
  },
  {
   "cell_type": "code",
   "execution_count": 83,
   "metadata": {},
   "outputs": [
    {
     "data": {
      "text/html": [
       "<div>\n",
       "<style scoped>\n",
       "    .dataframe tbody tr th:only-of-type {\n",
       "        vertical-align: middle;\n",
       "    }\n",
       "\n",
       "    .dataframe tbody tr th {\n",
       "        vertical-align: top;\n",
       "    }\n",
       "\n",
       "    .dataframe thead th {\n",
       "        text-align: right;\n",
       "    }\n",
       "</style>\n",
       "<table border=\"1\" class=\"dataframe\">\n",
       "  <thead>\n",
       "    <tr style=\"text-align: right;\">\n",
       "      <th></th>\n",
       "      <th>Alley</th>\n",
       "      <th>Block</th>\n",
       "      <th>Intersection</th>\n",
       "    </tr>\n",
       "  </thead>\n",
       "  <tbody>\n",
       "    <tr>\n",
       "      <th>75990</th>\n",
       "      <td>0</td>\n",
       "      <td>1</td>\n",
       "      <td>0</td>\n",
       "    </tr>\n",
       "    <tr>\n",
       "      <th>87185</th>\n",
       "      <td>0</td>\n",
       "      <td>1</td>\n",
       "      <td>0</td>\n",
       "    </tr>\n",
       "    <tr>\n",
       "      <th>132402</th>\n",
       "      <td>0</td>\n",
       "      <td>1</td>\n",
       "      <td>0</td>\n",
       "    </tr>\n",
       "    <tr>\n",
       "      <th>59348</th>\n",
       "      <td>0</td>\n",
       "      <td>1</td>\n",
       "      <td>0</td>\n",
       "    </tr>\n",
       "    <tr>\n",
       "      <th>125907</th>\n",
       "      <td>0</td>\n",
       "      <td>1</td>\n",
       "      <td>0</td>\n",
       "    </tr>\n",
       "  </tbody>\n",
       "</table>\n",
       "</div>"
      ],
      "text/plain": [
       "        Alley  Block  Intersection\n",
       "75990       0      1             0\n",
       "87185       0      1             0\n",
       "132402      0      1             0\n",
       "59348       0      1             0\n",
       "125907      0      1             0"
      ]
     },
     "execution_count": 83,
     "metadata": {},
     "output_type": "execute_result"
    }
   ],
   "source": [
    "# one-hot encoding for addrTYPE\n",
    "addrtype = pd.get_dummies(df_replace['ADDRTYPE'])\n",
    "addrtype.head()"
   ]
  },
  {
   "cell_type": "code",
   "execution_count": 84,
   "metadata": {},
   "outputs": [],
   "source": [
    "# mapping LIGHTCOND to 1 = Daylight 0 = Dark. \n",
    "# Consider Dawn and Dusk as Dark.\n",
    "\n",
    "d = {\n",
    "    'Daylight': 1, \n",
    "    'Dark - Street Lights On': 0, \n",
    "    'Dawn': 0, \n",
    "    'Dusk': 0,\n",
    "    'Dark - No Street Lights': 0, \n",
    "    'Dark - Street Lights Off': 0, \n",
    "    'Other': 0,\n",
    "    'Dark - Unknown Lighting': 0,\n",
    "    0: 0\n",
    "}\n",
    "df_replace.LIGHTCOND.fillna(0, inplace=True)\n",
    "df_replace.LIGHTCOND = df_replace['LIGHTCOND'].apply(lambda x: d[x])"
   ]
  },
  {
   "cell_type": "code",
   "execution_count": 85,
   "metadata": {},
   "outputs": [
    {
     "data": {
      "text/plain": [
       "WEATHER_Blowing Sand/Dirt              36\n",
       "WEATHER_Clear                       74844\n",
       "WEATHER_Fog/Smog/Smoke                354\n",
       "WEATHER_Other                         423\n",
       "WEATHER_Overcast                    16813\n",
       "WEATHER_Partly Cloudy                   4\n",
       "WEATHER_Raining                     20586\n",
       "WEATHER_Severe Crosswind               13\n",
       "WEATHER_Sleet/Hail/Freezing Rain       64\n",
       "WEATHER_Snowing                       490\n",
       "ROADCOND_Dry                        82935\n",
       "ROADCOND_Ice                          667\n",
       "ROADCOND_Oil                           37\n",
       "ROADCOND_Other                         74\n",
       "ROADCOND_Sand/Mud/Dirt                 47\n",
       "ROADCOND_Snow/Slush                   531\n",
       "ROADCOND_Standing Water                67\n",
       "ROADCOND_Wet                        29308\n",
       "dtype: int64"
      ]
     },
     "execution_count": 85,
     "metadata": {},
     "output_type": "execute_result"
    }
   ],
   "source": [
    "pd.get_dummies(df_replace[['WEATHER','ROADCOND']]).sum()"
   ]
  },
  {
   "cell_type": "code",
   "execution_count": 86,
   "metadata": {},
   "outputs": [
    {
     "data": {
      "text/html": [
       "<div>\n",
       "<style scoped>\n",
       "    .dataframe tbody tr th:only-of-type {\n",
       "        vertical-align: middle;\n",
       "    }\n",
       "\n",
       "    .dataframe tbody tr th {\n",
       "        vertical-align: top;\n",
       "    }\n",
       "\n",
       "    .dataframe thead th {\n",
       "        text-align: right;\n",
       "    }\n",
       "</style>\n",
       "<table border=\"1\" class=\"dataframe\">\n",
       "  <thead>\n",
       "    <tr style=\"text-align: right;\">\n",
       "      <th></th>\n",
       "      <th>WEATHER_Clear</th>\n",
       "      <th>WEATHER_Overcast</th>\n",
       "      <th>WEATHER_Raining</th>\n",
       "      <th>WEATHER_Fog/Smog/Smoke</th>\n",
       "      <th>WEATHER_Snowing</th>\n",
       "      <th>ROADCOND_Dry</th>\n",
       "      <th>ROADCOND_Wet</th>\n",
       "      <th>ROADCOND_Ice</th>\n",
       "      <th>ROADCOND_Snow/Slush</th>\n",
       "    </tr>\n",
       "  </thead>\n",
       "  <tbody>\n",
       "    <tr>\n",
       "      <th>75990</th>\n",
       "      <td>0</td>\n",
       "      <td>1</td>\n",
       "      <td>0</td>\n",
       "      <td>0</td>\n",
       "      <td>0</td>\n",
       "      <td>0</td>\n",
       "      <td>1</td>\n",
       "      <td>0</td>\n",
       "      <td>0</td>\n",
       "    </tr>\n",
       "    <tr>\n",
       "      <th>87185</th>\n",
       "      <td>1</td>\n",
       "      <td>0</td>\n",
       "      <td>0</td>\n",
       "      <td>0</td>\n",
       "      <td>0</td>\n",
       "      <td>1</td>\n",
       "      <td>0</td>\n",
       "      <td>0</td>\n",
       "      <td>0</td>\n",
       "    </tr>\n",
       "    <tr>\n",
       "      <th>132402</th>\n",
       "      <td>1</td>\n",
       "      <td>0</td>\n",
       "      <td>0</td>\n",
       "      <td>0</td>\n",
       "      <td>0</td>\n",
       "      <td>1</td>\n",
       "      <td>0</td>\n",
       "      <td>0</td>\n",
       "      <td>0</td>\n",
       "    </tr>\n",
       "    <tr>\n",
       "      <th>59348</th>\n",
       "      <td>1</td>\n",
       "      <td>0</td>\n",
       "      <td>0</td>\n",
       "      <td>0</td>\n",
       "      <td>0</td>\n",
       "      <td>1</td>\n",
       "      <td>0</td>\n",
       "      <td>0</td>\n",
       "      <td>0</td>\n",
       "    </tr>\n",
       "    <tr>\n",
       "      <th>125907</th>\n",
       "      <td>1</td>\n",
       "      <td>0</td>\n",
       "      <td>0</td>\n",
       "      <td>0</td>\n",
       "      <td>0</td>\n",
       "      <td>1</td>\n",
       "      <td>0</td>\n",
       "      <td>0</td>\n",
       "      <td>0</td>\n",
       "    </tr>\n",
       "  </tbody>\n",
       "</table>\n",
       "</div>"
      ],
      "text/plain": [
       "        WEATHER_Clear  WEATHER_Overcast  WEATHER_Raining  \\\n",
       "75990               0                 1                0   \n",
       "87185               1                 0                0   \n",
       "132402              1                 0                0   \n",
       "59348               1                 0                0   \n",
       "125907              1                 0                0   \n",
       "\n",
       "        WEATHER_Fog/Smog/Smoke  WEATHER_Snowing  ROADCOND_Dry  ROADCOND_Wet  \\\n",
       "75990                        0                0             0             1   \n",
       "87185                        0                0             1             0   \n",
       "132402                       0                0             1             0   \n",
       "59348                        0                0             1             0   \n",
       "125907                       0                0             1             0   \n",
       "\n",
       "        ROADCOND_Ice  ROADCOND_Snow/Slush  \n",
       "75990              0                    0  \n",
       "87185              0                    0  \n",
       "132402             0                    0  \n",
       "59348              0                    0  \n",
       "125907             0                    0  "
      ]
     },
     "execution_count": 86,
     "metadata": {},
     "output_type": "execute_result"
    }
   ],
   "source": [
    "keep = [\n",
    "    'WEATHER_Clear', 'WEATHER_Overcast', 'WEATHER_Raining', 'WEATHER_Fog/Smog/Smoke', 'WEATHER_Snowing',\n",
    "    'ROADCOND_Dry', 'ROADCOND_Wet', 'ROADCOND_Ice', 'ROADCOND_Snow/Slush'\n",
    "]\n",
    "weather_road = pd.get_dummies(df_replace[['WEATHER','ROADCOND']])[keep]\n",
    "weather_road.head()"
   ]
  },
  {
   "cell_type": "code",
   "execution_count": 87,
   "metadata": {},
   "outputs": [
    {
     "data": {
      "text/html": [
       "<div>\n",
       "<style scoped>\n",
       "    .dataframe tbody tr th:only-of-type {\n",
       "        vertical-align: middle;\n",
       "    }\n",
       "\n",
       "    .dataframe tbody tr th {\n",
       "        vertical-align: top;\n",
       "    }\n",
       "\n",
       "    .dataframe thead th {\n",
       "        text-align: right;\n",
       "    }\n",
       "</style>\n",
       "<table border=\"1\" class=\"dataframe\">\n",
       "  <thead>\n",
       "    <tr style=\"text-align: right;\">\n",
       "      <th></th>\n",
       "      <th>Alley</th>\n",
       "      <th>Block</th>\n",
       "      <th>Intersection</th>\n",
       "      <th>WEATHER_Clear</th>\n",
       "      <th>WEATHER_Overcast</th>\n",
       "      <th>WEATHER_Raining</th>\n",
       "      <th>WEATHER_Fog/Smog/Smoke</th>\n",
       "      <th>WEATHER_Snowing</th>\n",
       "      <th>ROADCOND_Dry</th>\n",
       "      <th>ROADCOND_Wet</th>\n",
       "      <th>ROADCOND_Ice</th>\n",
       "      <th>ROADCOND_Snow/Slush</th>\n",
       "      <th>LIGHTCOND</th>\n",
       "      <th>SEVERITYCODE</th>\n",
       "    </tr>\n",
       "  </thead>\n",
       "  <tbody>\n",
       "    <tr>\n",
       "      <th>75990</th>\n",
       "      <td>0</td>\n",
       "      <td>1</td>\n",
       "      <td>0</td>\n",
       "      <td>0</td>\n",
       "      <td>1</td>\n",
       "      <td>0</td>\n",
       "      <td>0</td>\n",
       "      <td>0</td>\n",
       "      <td>0</td>\n",
       "      <td>1</td>\n",
       "      <td>0</td>\n",
       "      <td>0</td>\n",
       "      <td>0</td>\n",
       "      <td>1</td>\n",
       "    </tr>\n",
       "    <tr>\n",
       "      <th>87185</th>\n",
       "      <td>0</td>\n",
       "      <td>1</td>\n",
       "      <td>0</td>\n",
       "      <td>1</td>\n",
       "      <td>0</td>\n",
       "      <td>0</td>\n",
       "      <td>0</td>\n",
       "      <td>0</td>\n",
       "      <td>1</td>\n",
       "      <td>0</td>\n",
       "      <td>0</td>\n",
       "      <td>0</td>\n",
       "      <td>0</td>\n",
       "      <td>1</td>\n",
       "    </tr>\n",
       "    <tr>\n",
       "      <th>132402</th>\n",
       "      <td>0</td>\n",
       "      <td>1</td>\n",
       "      <td>0</td>\n",
       "      <td>1</td>\n",
       "      <td>0</td>\n",
       "      <td>0</td>\n",
       "      <td>0</td>\n",
       "      <td>0</td>\n",
       "      <td>1</td>\n",
       "      <td>0</td>\n",
       "      <td>0</td>\n",
       "      <td>0</td>\n",
       "      <td>1</td>\n",
       "      <td>1</td>\n",
       "    </tr>\n",
       "    <tr>\n",
       "      <th>59348</th>\n",
       "      <td>0</td>\n",
       "      <td>1</td>\n",
       "      <td>0</td>\n",
       "      <td>1</td>\n",
       "      <td>0</td>\n",
       "      <td>0</td>\n",
       "      <td>0</td>\n",
       "      <td>0</td>\n",
       "      <td>1</td>\n",
       "      <td>0</td>\n",
       "      <td>0</td>\n",
       "      <td>0</td>\n",
       "      <td>1</td>\n",
       "      <td>1</td>\n",
       "    </tr>\n",
       "    <tr>\n",
       "      <th>125907</th>\n",
       "      <td>0</td>\n",
       "      <td>1</td>\n",
       "      <td>0</td>\n",
       "      <td>1</td>\n",
       "      <td>0</td>\n",
       "      <td>0</td>\n",
       "      <td>0</td>\n",
       "      <td>0</td>\n",
       "      <td>1</td>\n",
       "      <td>0</td>\n",
       "      <td>0</td>\n",
       "      <td>0</td>\n",
       "      <td>1</td>\n",
       "      <td>1</td>\n",
       "    </tr>\n",
       "  </tbody>\n",
       "</table>\n",
       "</div>"
      ],
      "text/plain": [
       "        Alley  Block  Intersection  WEATHER_Clear  WEATHER_Overcast  \\\n",
       "75990       0      1             0              0                 1   \n",
       "87185       0      1             0              1                 0   \n",
       "132402      0      1             0              1                 0   \n",
       "59348       0      1             0              1                 0   \n",
       "125907      0      1             0              1                 0   \n",
       "\n",
       "        WEATHER_Raining  WEATHER_Fog/Smog/Smoke  WEATHER_Snowing  \\\n",
       "75990                 0                       0                0   \n",
       "87185                 0                       0                0   \n",
       "132402                0                       0                0   \n",
       "59348                 0                       0                0   \n",
       "125907                0                       0                0   \n",
       "\n",
       "        ROADCOND_Dry  ROADCOND_Wet  ROADCOND_Ice  ROADCOND_Snow/Slush  \\\n",
       "75990              0             1             0                    0   \n",
       "87185              1             0             0                    0   \n",
       "132402             1             0             0                    0   \n",
       "59348              1             0             0                    0   \n",
       "125907             1             0             0                    0   \n",
       "\n",
       "        LIGHTCOND  SEVERITYCODE  \n",
       "75990           0             1  \n",
       "87185           0             1  \n",
       "132402          1             1  \n",
       "59348           1             1  \n",
       "125907          1             1  "
      ]
     },
     "execution_count": 87,
     "metadata": {},
     "output_type": "execute_result"
    }
   ],
   "source": [
    "df_prep = addrtype.merge(weather_road, left_index=True, right_index=True)\n",
    "df_prep = df_prep.merge(df_replace[['LIGHTCOND','SEVERITYCODE']], left_index=True, right_index=True)\n",
    "df_prep.head()"
   ]
  },
  {
   "cell_type": "code",
   "execution_count": 88,
   "metadata": {},
   "outputs": [
    {
     "data": {
      "text/plain": [
       "Alley                    -0.030665\n",
       "Block                    -0.197414\n",
       "Intersection              0.211665\n",
       "WEATHER_Clear            -0.027478\n",
       "WEATHER_Overcast          0.016547\n",
       "WEATHER_Raining           0.039769\n",
       "WEATHER_Fog/Smog/Smoke    0.003121\n",
       "WEATHER_Snowing          -0.019640\n",
       "ROADCOND_Dry             -0.024856\n",
       "ROADCOND_Wet              0.043591\n",
       "ROADCOND_Ice             -0.013773\n",
       "ROADCOND_Snow/Slush      -0.025118\n",
       "LIGHTCOND                 0.011744\n",
       "SEVERITYCODE              1.000000\n",
       "Name: SEVERITYCODE, dtype: float64"
      ]
     },
     "execution_count": 88,
     "metadata": {},
     "output_type": "execute_result"
    }
   ],
   "source": [
    "#sanity check with correlation and lightcondition visualization\n",
    "df_prep.corr()['SEVERITYCODE']"
   ]
  },
  {
   "cell_type": "code",
   "execution_count": 89,
   "metadata": {},
   "outputs": [
    {
     "data": {
      "image/png": "[encoded data removed]",
      "text/plain": [
       "<Figure size 720x288 with 2 Axes>"
      ]
     },
     "metadata": {
      "needs_background": "light"
     },
     "output_type": "display_data"
    }
   ],
   "source": [
    "f,axes = plt.subplots(1,2, figsize=(10,4))\n",
    "sns.countplot(x=df_prep['LIGHTCOND'], hue=df_prep['SEVERITYCODE'], ax=axes[0])\n",
    "sns.countplot(x=df_prep['ROADCOND_Wet'], hue=df_prep['SEVERITYCODE'], ax=axes[1])\n",
    "\n",
    "plt.show()"
   ]
  },
  {
   "cell_type": "code",
   "execution_count": 90,
   "metadata": {},
   "outputs": [
    {
     "data": {
      "text/html": [
       "<div>\n",
       "<style scoped>\n",
       "    .dataframe tbody tr th:only-of-type {\n",
       "        vertical-align: middle;\n",
       "    }\n",
       "\n",
       "    .dataframe tbody tr th {\n",
       "        vertical-align: top;\n",
       "    }\n",
       "\n",
       "    .dataframe thead th {\n",
       "        text-align: right;\n",
       "    }\n",
       "</style>\n",
       "<table border=\"1\" class=\"dataframe\">\n",
       "  <thead>\n",
       "    <tr style=\"text-align: right;\">\n",
       "      <th></th>\n",
       "      <th>SEVERITYCODE</th>\n",
       "      <th>WEATHER_Clear_ROADCOND_Dry</th>\n",
       "      <th>WEATHER_Clear_ROADCOND_Wet</th>\n",
       "      <th>WEATHER_Clear_ROADCOND_Ice</th>\n",
       "      <th>WEATHER_Clear_ROADCOND_Snow/Slush</th>\n",
       "      <th>WEATHER_Overcast_ROADCOND_Dry</th>\n",
       "      <th>WEATHER_Overcast_ROADCOND_Wet</th>\n",
       "      <th>WEATHER_Overcast_ROADCOND_Ice</th>\n",
       "      <th>WEATHER_Overcast_ROADCOND_Snow/Slush</th>\n",
       "      <th>WEATHER_Raining_ROADCOND_Dry</th>\n",
       "      <th>...</th>\n",
       "      <th>WEATHER_Raining_ROADCOND_Ice</th>\n",
       "      <th>WEATHER_Raining_ROADCOND_Snow/Slush</th>\n",
       "      <th>WEATHER_Fog/Smog/Smoke_ROADCOND_Dry</th>\n",
       "      <th>WEATHER_Fog/Smog/Smoke_ROADCOND_Wet</th>\n",
       "      <th>WEATHER_Fog/Smog/Smoke_ROADCOND_Ice</th>\n",
       "      <th>WEATHER_Fog/Smog/Smoke_ROADCOND_Snow/Slush</th>\n",
       "      <th>WEATHER_Snowing_ROADCOND_Dry</th>\n",
       "      <th>WEATHER_Snowing_ROADCOND_Wet</th>\n",
       "      <th>WEATHER_Snowing_ROADCOND_Ice</th>\n",
       "      <th>WEATHER_Snowing_ROADCOND_Snow/Slush</th>\n",
       "    </tr>\n",
       "  </thead>\n",
       "  <tbody>\n",
       "    <tr>\n",
       "      <th>75990</th>\n",
       "      <td>1</td>\n",
       "      <td>0</td>\n",
       "      <td>0</td>\n",
       "      <td>0</td>\n",
       "      <td>0</td>\n",
       "      <td>0</td>\n",
       "      <td>1</td>\n",
       "      <td>0</td>\n",
       "      <td>0</td>\n",
       "      <td>0</td>\n",
       "      <td>...</td>\n",
       "      <td>0</td>\n",
       "      <td>0</td>\n",
       "      <td>0</td>\n",
       "      <td>0</td>\n",
       "      <td>0</td>\n",
       "      <td>0</td>\n",
       "      <td>0</td>\n",
       "      <td>0</td>\n",
       "      <td>0</td>\n",
       "      <td>0</td>\n",
       "    </tr>\n",
       "    <tr>\n",
       "      <th>87185</th>\n",
       "      <td>1</td>\n",
       "      <td>1</td>\n",
       "      <td>0</td>\n",
       "      <td>0</td>\n",
       "      <td>0</td>\n",
       "      <td>0</td>\n",
       "      <td>0</td>\n",
       "      <td>0</td>\n",
       "      <td>0</td>\n",
       "      <td>0</td>\n",
       "      <td>...</td>\n",
       "      <td>0</td>\n",
       "      <td>0</td>\n",
       "      <td>0</td>\n",
       "      <td>0</td>\n",
       "      <td>0</td>\n",
       "      <td>0</td>\n",
       "      <td>0</td>\n",
       "      <td>0</td>\n",
       "      <td>0</td>\n",
       "      <td>0</td>\n",
       "    </tr>\n",
       "    <tr>\n",
       "      <th>132402</th>\n",
       "      <td>1</td>\n",
       "      <td>1</td>\n",
       "      <td>0</td>\n",
       "      <td>0</td>\n",
       "      <td>0</td>\n",
       "      <td>0</td>\n",
       "      <td>0</td>\n",
       "      <td>0</td>\n",
       "      <td>0</td>\n",
       "      <td>0</td>\n",
       "      <td>...</td>\n",
       "      <td>0</td>\n",
       "      <td>0</td>\n",
       "      <td>0</td>\n",
       "      <td>0</td>\n",
       "      <td>0</td>\n",
       "      <td>0</td>\n",
       "      <td>0</td>\n",
       "      <td>0</td>\n",
       "      <td>0</td>\n",
       "      <td>0</td>\n",
       "    </tr>\n",
       "    <tr>\n",
       "      <th>59348</th>\n",
       "      <td>1</td>\n",
       "      <td>1</td>\n",
       "      <td>0</td>\n",
       "      <td>0</td>\n",
       "      <td>0</td>\n",
       "      <td>0</td>\n",
       "      <td>0</td>\n",
       "      <td>0</td>\n",
       "      <td>0</td>\n",
       "      <td>0</td>\n",
       "      <td>...</td>\n",
       "      <td>0</td>\n",
       "      <td>0</td>\n",
       "      <td>0</td>\n",
       "      <td>0</td>\n",
       "      <td>0</td>\n",
       "      <td>0</td>\n",
       "      <td>0</td>\n",
       "      <td>0</td>\n",
       "      <td>0</td>\n",
       "      <td>0</td>\n",
       "    </tr>\n",
       "    <tr>\n",
       "      <th>125907</th>\n",
       "      <td>1</td>\n",
       "      <td>1</td>\n",
       "      <td>0</td>\n",
       "      <td>0</td>\n",
       "      <td>0</td>\n",
       "      <td>0</td>\n",
       "      <td>0</td>\n",
       "      <td>0</td>\n",
       "      <td>0</td>\n",
       "      <td>0</td>\n",
       "      <td>...</td>\n",
       "      <td>0</td>\n",
       "      <td>0</td>\n",
       "      <td>0</td>\n",
       "      <td>0</td>\n",
       "      <td>0</td>\n",
       "      <td>0</td>\n",
       "      <td>0</td>\n",
       "      <td>0</td>\n",
       "      <td>0</td>\n",
       "      <td>0</td>\n",
       "    </tr>\n",
       "  </tbody>\n",
       "</table>\n",
       "<p>5 rows × 21 columns</p>\n",
       "</div>"
      ],
      "text/plain": [
       "        SEVERITYCODE  WEATHER_Clear_ROADCOND_Dry  WEATHER_Clear_ROADCOND_Wet  \\\n",
       "75990              1                           0                           0   \n",
       "87185              1                           1                           0   \n",
       "132402             1                           1                           0   \n",
       "59348              1                           1                           0   \n",
       "125907             1                           1                           0   \n",
       "\n",
       "        WEATHER_Clear_ROADCOND_Ice  WEATHER_Clear_ROADCOND_Snow/Slush  \\\n",
       "75990                            0                                  0   \n",
       "87185                            0                                  0   \n",
       "132402                           0                                  0   \n",
       "59348                            0                                  0   \n",
       "125907                           0                                  0   \n",
       "\n",
       "        WEATHER_Overcast_ROADCOND_Dry  WEATHER_Overcast_ROADCOND_Wet  \\\n",
       "75990                               0                              1   \n",
       "87185                               0                              0   \n",
       "132402                              0                              0   \n",
       "59348                               0                              0   \n",
       "125907                              0                              0   \n",
       "\n",
       "        WEATHER_Overcast_ROADCOND_Ice  WEATHER_Overcast_ROADCOND_Snow/Slush  \\\n",
       "75990                               0                                     0   \n",
       "87185                               0                                     0   \n",
       "132402                              0                                     0   \n",
       "59348                               0                                     0   \n",
       "125907                              0                                     0   \n",
       "\n",
       "        WEATHER_Raining_ROADCOND_Dry  ...  WEATHER_Raining_ROADCOND_Ice  \\\n",
       "75990                              0  ...                             0   \n",
       "87185                              0  ...                             0   \n",
       "132402                             0  ...                             0   \n",
       "59348                              0  ...                             0   \n",
       "125907                             0  ...                             0   \n",
       "\n",
       "        WEATHER_Raining_ROADCOND_Snow/Slush  \\\n",
       "75990                                     0   \n",
       "87185                                     0   \n",
       "132402                                    0   \n",
       "59348                                     0   \n",
       "125907                                    0   \n",
       "\n",
       "        WEATHER_Fog/Smog/Smoke_ROADCOND_Dry  \\\n",
       "75990                                     0   \n",
       "87185                                     0   \n",
       "132402                                    0   \n",
       "59348                                     0   \n",
       "125907                                    0   \n",
       "\n",
       "        WEATHER_Fog/Smog/Smoke_ROADCOND_Wet  \\\n",
       "75990                                     0   \n",
       "87185                                     0   \n",
       "132402                                    0   \n",
       "59348                                     0   \n",
       "125907                                    0   \n",
       "\n",
       "        WEATHER_Fog/Smog/Smoke_ROADCOND_Ice  \\\n",
       "75990                                     0   \n",
       "87185                                     0   \n",
       "132402                                    0   \n",
       "59348                                     0   \n",
       "125907                                    0   \n",
       "\n",
       "        WEATHER_Fog/Smog/Smoke_ROADCOND_Snow/Slush  \\\n",
       "75990                                            0   \n",
       "87185                                            0   \n",
       "132402                                           0   \n",
       "59348                                            0   \n",
       "125907                                           0   \n",
       "\n",
       "        WEATHER_Snowing_ROADCOND_Dry  WEATHER_Snowing_ROADCOND_Wet  \\\n",
       "75990                              0                             0   \n",
       "87185                              0                             0   \n",
       "132402                             0                             0   \n",
       "59348                              0                             0   \n",
       "125907                             0                             0   \n",
       "\n",
       "        WEATHER_Snowing_ROADCOND_Ice  WEATHER_Snowing_ROADCOND_Snow/Slush  \n",
       "75990                              0                                    0  \n",
       "87185                              0                                    0  \n",
       "132402                             0                                    0  \n",
       "59348                              0                                    0  \n",
       "125907                             0                                    0  \n",
       "\n",
       "[5 rows x 21 columns]"
      ]
     },
     "execution_count": 90,
     "metadata": {},
     "output_type": "execute_result"
    }
   ],
   "source": [
    "#creating feature interactions\n",
    "weather = ['WEATHER_Clear', 'WEATHER_Overcast', 'WEATHER_Raining', 'WEATHER_Fog/Smog/Smoke', 'WEATHER_Snowing']\n",
    "roadcond = ['ROADCOND_Dry', 'ROADCOND_Wet', 'ROADCOND_Ice', 'ROADCOND_Snow/Slush']\n",
    "ints = pd.DataFrame(df_prep['SEVERITYCODE'])\n",
    "for w in weather:\n",
    "    for rc in roadcond:\n",
    "        interaction = (df_prep[w]) * (df_prep[rc])\n",
    "        interaction = interaction.rename(w+\"_\"+rc)\n",
    "        ints = ints.merge(interaction, left_index=True, right_index=True)\n",
    "ints.head()    "
   ]
  },
  {
   "cell_type": "code",
   "execution_count": 93,
   "metadata": {
    "scrolled": true
   },
   "outputs": [
    {
     "data": {
      "text/plain": [
       "WEATHER_Clear_ROADCOND_Dry                   -2.722263e-02\n",
       "WEATHER_Snowing_ROADCOND_Snow/Slush          -1.853733e-02\n",
       "WEATHER_Overcast_ROADCOND_Snow/Slush         -1.295311e-02\n",
       "WEATHER_Clear_ROADCOND_Snow/Slush            -1.233581e-02\n",
       "WEATHER_Snowing_ROADCOND_Ice                 -1.201609e-02\n",
       "WEATHER_Clear_ROADCOND_Ice                   -8.494438e-03\n",
       "WEATHER_Overcast_ROADCOND_Ice                -5.939779e-03\n",
       "WEATHER_Raining_ROADCOND_Snow/Slush          -3.558214e-03\n",
       "WEATHER_Fog/Smog/Smoke_ROADCOND_Wet          -1.161498e-03\n",
       "WEATHER_Snowing_ROADCOND_Wet                 -8.932741e-04\n",
       "WEATHER_Snowing_ROADCOND_Dry                  3.473367e-16\n",
       "WEATHER_Raining_ROADCOND_Ice                  8.838783e-04\n",
       "WEATHER_Raining_ROADCOND_Dry                  1.589491e-03\n",
       "WEATHER_Fog/Smog/Smoke_ROADCOND_Ice           3.056450e-03\n",
       "WEATHER_Fog/Smog/Smoke_ROADCOND_Dry           3.497834e-03\n",
       "WEATHER_Clear_ROADCOND_Wet                    6.208698e-03\n",
       "WEATHER_Overcast_ROADCOND_Dry                 1.170592e-02\n",
       "WEATHER_Overcast_ROADCOND_Wet                 1.318354e-02\n",
       "WEATHER_Raining_ROADCOND_Wet                  4.002173e-02\n",
       "SEVERITYCODE                                  1.000000e+00\n",
       "WEATHER_Fog/Smog/Smoke_ROADCOND_Snow/Slush             NaN\n",
       "Name: SEVERITYCODE, dtype: float64"
      ]
     },
     "execution_count": 93,
     "metadata": {},
     "output_type": "execute_result"
    }
   ],
   "source": [
    "ints.corr()['SEVERITYCODE'].sort_values()"
   ]
  },
  {
   "cell_type": "code",
   "execution_count": 94,
   "metadata": {},
   "outputs": [
    {
     "data": {
      "image/png": "[encoded data removed]",
      "text/plain": [
       "<Figure size 936x288 with 3 Axes>"
      ]
     },
     "metadata": {
      "needs_background": "light"
     },
     "output_type": "display_data"
    }
   ],
   "source": [
    "f,axes = plt.subplots(1,3, figsize=(13,4), sharey=True)\n",
    "sns.countplot(x=ints['WEATHER_Snowing_ROADCOND_Snow/Slush'], hue=ints['SEVERITYCODE'], ax=axes[0])\n",
    "sns.countplot(x=ints['WEATHER_Snowing_ROADCOND_Ice'], hue=ints['SEVERITYCODE'], ax=axes[1])\n",
    "sns.countplot(x=ints['WEATHER_Raining_ROADCOND_Wet'], hue=ints['SEVERITYCODE'], ax=axes[2])\n",
    "plt.show()"
   ]
  },
  {
   "cell_type": "markdown",
   "metadata": {},
   "source": [
    "The Interactions give us a few more features which can be used to predict. I'm hesitant to include the interaction between Snowing and Road_Ice due to the very low number of cases where both are positive but given its relatively high correlation to severity I'll keep it and make a mental note about it incase we may need to tune the model to improve its predictive strength. \n",
    "\n",
    "We've completed the Data Preparation Stage by taking the features with greater then 0.01 correlation. We'll start modelling with LogisticRegressionClassifiers and explore other models if the results are unsatisfactory."
   ]
  },
  {
   "cell_type": "code",
   "execution_count": 95,
   "metadata": {},
   "outputs": [],
   "source": [
    "df_final = df_prep.copy(deep=True)\n",
    "drop = ['WEATHER_Fog/Smog/Smoke']\n",
    "df_final.drop(drop, axis=1,inplace=True)\n",
    "\n",
    "keep = ['WEATHER_Snowing_ROADCOND_Snow/Slush', 'WEATHER_Snowing_ROADCOND_Ice', 'WEATHER_Raining_ROADCOND_Wet',\n",
    "        'WEATHER_Overcast_ROADCOND_Dry', 'WEATHER_Overcast_ROADCOND_Wet', 'WEATHER_Clear_ROADCOND_Snow/Slush',\n",
    "        'WEATHER_Overcast_ROADCOND_Snow/Slush', 'WEATHER_Clear_ROADCOND_Dry'\n",
    "       ]\n",
    "df_final = df_final.merge(ints[keep], right_index=True, left_index=True)"
   ]
  },
  {
   "cell_type": "code",
   "execution_count": 96,
   "metadata": {},
   "outputs": [
    {
     "data": {
      "text/html": [
       "<div>\n",
       "<style scoped>\n",
       "    .dataframe tbody tr th:only-of-type {\n",
       "        vertical-align: middle;\n",
       "    }\n",
       "\n",
       "    .dataframe tbody tr th {\n",
       "        vertical-align: top;\n",
       "    }\n",
       "\n",
       "    .dataframe thead th {\n",
       "        text-align: right;\n",
       "    }\n",
       "</style>\n",
       "<table border=\"1\" class=\"dataframe\">\n",
       "  <thead>\n",
       "    <tr style=\"text-align: right;\">\n",
       "      <th></th>\n",
       "      <th>Alley</th>\n",
       "      <th>Block</th>\n",
       "      <th>Intersection</th>\n",
       "      <th>WEATHER_Clear</th>\n",
       "      <th>WEATHER_Overcast</th>\n",
       "      <th>WEATHER_Raining</th>\n",
       "      <th>WEATHER_Snowing</th>\n",
       "      <th>ROADCOND_Dry</th>\n",
       "      <th>ROADCOND_Wet</th>\n",
       "      <th>ROADCOND_Ice</th>\n",
       "      <th>...</th>\n",
       "      <th>LIGHTCOND</th>\n",
       "      <th>SEVERITYCODE</th>\n",
       "      <th>WEATHER_Snowing_ROADCOND_Snow/Slush</th>\n",
       "      <th>WEATHER_Snowing_ROADCOND_Ice</th>\n",
       "      <th>WEATHER_Raining_ROADCOND_Wet</th>\n",
       "      <th>WEATHER_Overcast_ROADCOND_Dry</th>\n",
       "      <th>WEATHER_Overcast_ROADCOND_Wet</th>\n",
       "      <th>WEATHER_Clear_ROADCOND_Snow/Slush</th>\n",
       "      <th>WEATHER_Overcast_ROADCOND_Snow/Slush</th>\n",
       "      <th>WEATHER_Clear_ROADCOND_Dry</th>\n",
       "    </tr>\n",
       "  </thead>\n",
       "  <tbody>\n",
       "    <tr>\n",
       "      <th>75990</th>\n",
       "      <td>0</td>\n",
       "      <td>1</td>\n",
       "      <td>0</td>\n",
       "      <td>0</td>\n",
       "      <td>1</td>\n",
       "      <td>0</td>\n",
       "      <td>0</td>\n",
       "      <td>0</td>\n",
       "      <td>1</td>\n",
       "      <td>0</td>\n",
       "      <td>...</td>\n",
       "      <td>0</td>\n",
       "      <td>1</td>\n",
       "      <td>0</td>\n",
       "      <td>0</td>\n",
       "      <td>0</td>\n",
       "      <td>0</td>\n",
       "      <td>1</td>\n",
       "      <td>0</td>\n",
       "      <td>0</td>\n",
       "      <td>0</td>\n",
       "    </tr>\n",
       "    <tr>\n",
       "      <th>87185</th>\n",
       "      <td>0</td>\n",
       "      <td>1</td>\n",
       "      <td>0</td>\n",
       "      <td>1</td>\n",
       "      <td>0</td>\n",
       "      <td>0</td>\n",
       "      <td>0</td>\n",
       "      <td>1</td>\n",
       "      <td>0</td>\n",
       "      <td>0</td>\n",
       "      <td>...</td>\n",
       "      <td>0</td>\n",
       "      <td>1</td>\n",
       "      <td>0</td>\n",
       "      <td>0</td>\n",
       "      <td>0</td>\n",
       "      <td>0</td>\n",
       "      <td>0</td>\n",
       "      <td>0</td>\n",
       "      <td>0</td>\n",
       "      <td>1</td>\n",
       "    </tr>\n",
       "    <tr>\n",
       "      <th>132402</th>\n",
       "      <td>0</td>\n",
       "      <td>1</td>\n",
       "      <td>0</td>\n",
       "      <td>1</td>\n",
       "      <td>0</td>\n",
       "      <td>0</td>\n",
       "      <td>0</td>\n",
       "      <td>1</td>\n",
       "      <td>0</td>\n",
       "      <td>0</td>\n",
       "      <td>...</td>\n",
       "      <td>1</td>\n",
       "      <td>1</td>\n",
       "      <td>0</td>\n",
       "      <td>0</td>\n",
       "      <td>0</td>\n",
       "      <td>0</td>\n",
       "      <td>0</td>\n",
       "      <td>0</td>\n",
       "      <td>0</td>\n",
       "      <td>1</td>\n",
       "    </tr>\n",
       "    <tr>\n",
       "      <th>59348</th>\n",
       "      <td>0</td>\n",
       "      <td>1</td>\n",
       "      <td>0</td>\n",
       "      <td>1</td>\n",
       "      <td>0</td>\n",
       "      <td>0</td>\n",
       "      <td>0</td>\n",
       "      <td>1</td>\n",
       "      <td>0</td>\n",
       "      <td>0</td>\n",
       "      <td>...</td>\n",
       "      <td>1</td>\n",
       "      <td>1</td>\n",
       "      <td>0</td>\n",
       "      <td>0</td>\n",
       "      <td>0</td>\n",
       "      <td>0</td>\n",
       "      <td>0</td>\n",
       "      <td>0</td>\n",
       "      <td>0</td>\n",
       "      <td>1</td>\n",
       "    </tr>\n",
       "    <tr>\n",
       "      <th>125907</th>\n",
       "      <td>0</td>\n",
       "      <td>1</td>\n",
       "      <td>0</td>\n",
       "      <td>1</td>\n",
       "      <td>0</td>\n",
       "      <td>0</td>\n",
       "      <td>0</td>\n",
       "      <td>1</td>\n",
       "      <td>0</td>\n",
       "      <td>0</td>\n",
       "      <td>...</td>\n",
       "      <td>1</td>\n",
       "      <td>1</td>\n",
       "      <td>0</td>\n",
       "      <td>0</td>\n",
       "      <td>0</td>\n",
       "      <td>0</td>\n",
       "      <td>0</td>\n",
       "      <td>0</td>\n",
       "      <td>0</td>\n",
       "      <td>1</td>\n",
       "    </tr>\n",
       "    <tr>\n",
       "      <th>...</th>\n",
       "      <td>...</td>\n",
       "      <td>...</td>\n",
       "      <td>...</td>\n",
       "      <td>...</td>\n",
       "      <td>...</td>\n",
       "      <td>...</td>\n",
       "      <td>...</td>\n",
       "      <td>...</td>\n",
       "      <td>...</td>\n",
       "      <td>...</td>\n",
       "      <td>...</td>\n",
       "      <td>...</td>\n",
       "      <td>...</td>\n",
       "      <td>...</td>\n",
       "      <td>...</td>\n",
       "      <td>...</td>\n",
       "      <td>...</td>\n",
       "      <td>...</td>\n",
       "      <td>...</td>\n",
       "      <td>...</td>\n",
       "      <td>...</td>\n",
       "    </tr>\n",
       "    <tr>\n",
       "      <th>194663</th>\n",
       "      <td>0</td>\n",
       "      <td>1</td>\n",
       "      <td>0</td>\n",
       "      <td>0</td>\n",
       "      <td>0</td>\n",
       "      <td>1</td>\n",
       "      <td>0</td>\n",
       "      <td>0</td>\n",
       "      <td>1</td>\n",
       "      <td>0</td>\n",
       "      <td>...</td>\n",
       "      <td>1</td>\n",
       "      <td>2</td>\n",
       "      <td>0</td>\n",
       "      <td>0</td>\n",
       "      <td>1</td>\n",
       "      <td>0</td>\n",
       "      <td>0</td>\n",
       "      <td>0</td>\n",
       "      <td>0</td>\n",
       "      <td>0</td>\n",
       "    </tr>\n",
       "    <tr>\n",
       "      <th>194666</th>\n",
       "      <td>0</td>\n",
       "      <td>1</td>\n",
       "      <td>0</td>\n",
       "      <td>1</td>\n",
       "      <td>0</td>\n",
       "      <td>0</td>\n",
       "      <td>0</td>\n",
       "      <td>0</td>\n",
       "      <td>1</td>\n",
       "      <td>0</td>\n",
       "      <td>...</td>\n",
       "      <td>1</td>\n",
       "      <td>2</td>\n",
       "      <td>0</td>\n",
       "      <td>0</td>\n",
       "      <td>0</td>\n",
       "      <td>0</td>\n",
       "      <td>0</td>\n",
       "      <td>0</td>\n",
       "      <td>0</td>\n",
       "      <td>0</td>\n",
       "    </tr>\n",
       "    <tr>\n",
       "      <th>194668</th>\n",
       "      <td>0</td>\n",
       "      <td>1</td>\n",
       "      <td>0</td>\n",
       "      <td>1</td>\n",
       "      <td>0</td>\n",
       "      <td>0</td>\n",
       "      <td>0</td>\n",
       "      <td>1</td>\n",
       "      <td>0</td>\n",
       "      <td>0</td>\n",
       "      <td>...</td>\n",
       "      <td>1</td>\n",
       "      <td>2</td>\n",
       "      <td>0</td>\n",
       "      <td>0</td>\n",
       "      <td>0</td>\n",
       "      <td>0</td>\n",
       "      <td>0</td>\n",
       "      <td>0</td>\n",
       "      <td>0</td>\n",
       "      <td>1</td>\n",
       "    </tr>\n",
       "    <tr>\n",
       "      <th>194670</th>\n",
       "      <td>0</td>\n",
       "      <td>0</td>\n",
       "      <td>1</td>\n",
       "      <td>1</td>\n",
       "      <td>0</td>\n",
       "      <td>0</td>\n",
       "      <td>0</td>\n",
       "      <td>1</td>\n",
       "      <td>0</td>\n",
       "      <td>0</td>\n",
       "      <td>...</td>\n",
       "      <td>1</td>\n",
       "      <td>2</td>\n",
       "      <td>0</td>\n",
       "      <td>0</td>\n",
       "      <td>0</td>\n",
       "      <td>0</td>\n",
       "      <td>0</td>\n",
       "      <td>0</td>\n",
       "      <td>0</td>\n",
       "      <td>1</td>\n",
       "    </tr>\n",
       "    <tr>\n",
       "      <th>194671</th>\n",
       "      <td>0</td>\n",
       "      <td>0</td>\n",
       "      <td>1</td>\n",
       "      <td>1</td>\n",
       "      <td>0</td>\n",
       "      <td>0</td>\n",
       "      <td>0</td>\n",
       "      <td>1</td>\n",
       "      <td>0</td>\n",
       "      <td>0</td>\n",
       "      <td>...</td>\n",
       "      <td>0</td>\n",
       "      <td>2</td>\n",
       "      <td>0</td>\n",
       "      <td>0</td>\n",
       "      <td>0</td>\n",
       "      <td>0</td>\n",
       "      <td>0</td>\n",
       "      <td>0</td>\n",
       "      <td>0</td>\n",
       "      <td>1</td>\n",
       "    </tr>\n",
       "  </tbody>\n",
       "</table>\n",
       "<p>116376 rows × 21 columns</p>\n",
       "</div>"
      ],
      "text/plain": [
       "        Alley  Block  Intersection  WEATHER_Clear  WEATHER_Overcast  \\\n",
       "75990       0      1             0              0                 1   \n",
       "87185       0      1             0              1                 0   \n",
       "132402      0      1             0              1                 0   \n",
       "59348       0      1             0              1                 0   \n",
       "125907      0      1             0              1                 0   \n",
       "...       ...    ...           ...            ...               ...   \n",
       "194663      0      1             0              0                 0   \n",
       "194666      0      1             0              1                 0   \n",
       "194668      0      1             0              1                 0   \n",
       "194670      0      0             1              1                 0   \n",
       "194671      0      0             1              1                 0   \n",
       "\n",
       "        WEATHER_Raining  WEATHER_Snowing  ROADCOND_Dry  ROADCOND_Wet  \\\n",
       "75990                 0                0             0             1   \n",
       "87185                 0                0             1             0   \n",
       "132402                0                0             1             0   \n",
       "59348                 0                0             1             0   \n",
       "125907                0                0             1             0   \n",
       "...                 ...              ...           ...           ...   \n",
       "194663                1                0             0             1   \n",
       "194666                0                0             0             1   \n",
       "194668                0                0             1             0   \n",
       "194670                0                0             1             0   \n",
       "194671                0                0             1             0   \n",
       "\n",
       "        ROADCOND_Ice  ...  LIGHTCOND  SEVERITYCODE  \\\n",
       "75990              0  ...          0             1   \n",
       "87185              0  ...          0             1   \n",
       "132402             0  ...          1             1   \n",
       "59348              0  ...          1             1   \n",
       "125907             0  ...          1             1   \n",
       "...              ...  ...        ...           ...   \n",
       "194663             0  ...          1             2   \n",
       "194666             0  ...          1             2   \n",
       "194668             0  ...          1             2   \n",
       "194670             0  ...          1             2   \n",
       "194671             0  ...          0             2   \n",
       "\n",
       "        WEATHER_Snowing_ROADCOND_Snow/Slush  WEATHER_Snowing_ROADCOND_Ice  \\\n",
       "75990                                     0                             0   \n",
       "87185                                     0                             0   \n",
       "132402                                    0                             0   \n",
       "59348                                     0                             0   \n",
       "125907                                    0                             0   \n",
       "...                                     ...                           ...   \n",
       "194663                                    0                             0   \n",
       "194666                                    0                             0   \n",
       "194668                                    0                             0   \n",
       "194670                                    0                             0   \n",
       "194671                                    0                             0   \n",
       "\n",
       "        WEATHER_Raining_ROADCOND_Wet  WEATHER_Overcast_ROADCOND_Dry  \\\n",
       "75990                              0                              0   \n",
       "87185                              0                              0   \n",
       "132402                             0                              0   \n",
       "59348                              0                              0   \n",
       "125907                             0                              0   \n",
       "...                              ...                            ...   \n",
       "194663                             1                              0   \n",
       "194666                             0                              0   \n",
       "194668                             0                              0   \n",
       "194670                             0                              0   \n",
       "194671                             0                              0   \n",
       "\n",
       "        WEATHER_Overcast_ROADCOND_Wet  WEATHER_Clear_ROADCOND_Snow/Slush  \\\n",
       "75990                               1                                  0   \n",
       "87185                               0                                  0   \n",
       "132402                              0                                  0   \n",
       "59348                               0                                  0   \n",
       "125907                              0                                  0   \n",
       "...                               ...                                ...   \n",
       "194663                              0                                  0   \n",
       "194666                              0                                  0   \n",
       "194668                              0                                  0   \n",
       "194670                              0                                  0   \n",
       "194671                              0                                  0   \n",
       "\n",
       "        WEATHER_Overcast_ROADCOND_Snow/Slush  WEATHER_Clear_ROADCOND_Dry  \n",
       "75990                                      0                           0  \n",
       "87185                                      0                           1  \n",
       "132402                                     0                           1  \n",
       "59348                                      0                           1  \n",
       "125907                                     0                           1  \n",
       "...                                      ...                         ...  \n",
       "194663                                     0                           0  \n",
       "194666                                     0                           0  \n",
       "194668                                     0                           1  \n",
       "194670                                     0                           1  \n",
       "194671                                     0                           1  \n",
       "\n",
       "[116376 rows x 21 columns]"
      ]
     },
     "execution_count": 96,
     "metadata": {},
     "output_type": "execute_result"
    }
   ],
   "source": [
    "df_final"
   ]
  },
  {
   "cell_type": "code",
   "execution_count": 98,
   "metadata": {},
   "outputs": [],
   "source": [
    "df_final.to_csv('data/final_dataset.csv', index=False)"
   ]
  },
  {
   "cell_type": "code",
   "execution_count": 99,
   "metadata": {},
   "outputs": [],
   "source": [
    "df_final = pd.read_csv(\"data/final_dataset.csv\")"
   ]
  },
  {
   "cell_type": "markdown",
   "metadata": {},
   "source": [
    "### Modeling + Model Evaluation\n",
    "\n",
    "We'll start generating models and evaluating them using Precision/Recall for the most part. Given that we are interested in informing Healthcare systems for EMT assignments the primary metric we are looking for is capturing all the high severity crashes. This is because we assume that understaffing EMTs will reduce effective response times as well as necessitate overtime/call-ins for addition EMTs which would be more costly, financially, than having them on staff already.\n",
    "\n",
    "The first model we will evaluate is a LogisticRegression model."
   ]
  },
  {
   "cell_type": "code",
   "execution_count": 101,
   "metadata": {},
   "outputs": [],
   "source": [
    "X = df_final.drop('SEVERITYCODE',axis=1)\n",
    "y = df_final.SEVERITYCODE\n",
    "y0 = y.replace(2, 0)\n",
    "from sklearn.model_selection import train_test_split\n",
    "\n",
    "X_train, X_test, y_train, y_test = train_test_split(X, y, test_size=0.2, random_state=5)\n",
    "X_train, X_test, y0_train, y0_test = train_test_split(X, y0, test_size=0.2, random_state=5)"
   ]
  },
  {
   "cell_type": "code",
   "execution_count": 103,
   "metadata": {},
   "outputs": [
    {
     "name": "stdout",
     "output_type": "stream",
     "text": [
      "                 precision    recall  f1-score   support\n",
      "\n",
      "Property Damage       0.58      0.73      0.65     11662\n",
      "         Injury       0.64      0.48      0.55     11614\n",
      "\n",
      "       accuracy                           0.60     23276\n",
      "      macro avg       0.61      0.60      0.60     23276\n",
      "   weighted avg       0.61      0.60      0.60     23276\n",
      "\n"
     ]
    }
   ],
   "source": [
    "from sklearn.linear_model import LogisticRegression\n",
    "from sklearn.metrics import classification_report\n",
    "\n",
    "clf = LogisticRegression(max_iter=1000)\n",
    "clf.fit(X_train, y_train)\n",
    "\n",
    "print(classification_report(y_test, clf.predict(X_test), target_names=['Property Damage', 'Injury']))\n"
   ]
  },
  {
   "cell_type": "markdown",
   "metadata": {},
   "source": [
    "This model isn't too bad but in the category we care the most about \"Injury\" we aren't capturing enough of the total incidencts with a 0.49 recall. However we are fairly good at correctly predicting them when we do with a 0.62 precision. I'd like to see these much higher before providing this model to any sort of client so I think we'll look into a decision tree and Nearest Neighbors as a quick comparison.\n"
   ]
  },
  {
   "cell_type": "code",
   "execution_count": 104,
   "metadata": {},
   "outputs": [
    {
     "name": "stdout",
     "output_type": "stream",
     "text": [
      "                 precision    recall  f1-score   support\n",
      "\n",
      "Property Damage       0.58      0.73      0.65     11662\n",
      "         Injury       0.64      0.47      0.54     11614\n",
      "\n",
      "       accuracy                           0.60     23276\n",
      "      macro avg       0.61      0.60      0.60     23276\n",
      "   weighted avg       0.61      0.60      0.60     23276\n",
      "\n"
     ]
    }
   ],
   "source": [
    "from sklearn.tree import DecisionTreeClassifier\n",
    "\n",
    "clf = DecisionTreeClassifier(random_state=5, criterion='entropy')\n",
    "clf.fit(X_train, y_train)\n",
    "\n",
    "print(classification_report(y_test, clf.predict(X_test), target_names=['Property Damage', 'Injury']))"
   ]
  },
  {
   "cell_type": "code",
   "execution_count": 105,
   "metadata": {},
   "outputs": [
    {
     "name": "stdout",
     "output_type": "stream",
     "text": [
      "                 precision    recall  f1-score   support\n",
      "\n",
      "Property Damage       0.57      0.68      0.62     11662\n",
      "         Injury       0.60      0.48      0.53     11614\n",
      "\n",
      "       accuracy                           0.58     23276\n",
      "      macro avg       0.58      0.58      0.57     23276\n",
      "   weighted avg       0.58      0.58      0.57     23276\n",
      "\n"
     ]
    }
   ],
   "source": [
    "from sklearn.neighbors import KNeighborsClassifier\n",
    "\n",
    "clf = KNeighborsClassifier(n_neighbors=3)\n",
    "\n",
    "clf.fit(X_train, y_train)\n",
    "\n",
    "print(classification_report(y_test, clf.predict(X_test), target_names=['Property Damage', 'Injury']))"
   ]
  },
  {
   "cell_type": "markdown",
   "metadata": {},
   "source": [
    " \n",
    " We'll try tuning the models a little to see if we can increase prediction power a little."
   ]
  },
  {
   "cell_type": "code",
   "execution_count": 106,
   "metadata": {},
   "outputs": [
    {
     "name": "stdout",
     "output_type": "stream",
     "text": [
      "{'C': 0.5, 'max_iter': 1000, 'solver': 'liblinear'}\n",
      "                 precision    recall  f1-score   support\n",
      "\n",
      "Property Damage       0.58      0.73      0.65     11662\n",
      "         Injury       0.64      0.48      0.55     11614\n",
      "\n",
      "       accuracy                           0.60     23276\n",
      "      macro avg       0.61      0.60      0.60     23276\n",
      "   weighted avg       0.61      0.60      0.60     23276\n",
      "\n"
     ]
    }
   ],
   "source": [
    "from sklearn.model_selection import GridSearchCV\n",
    "params = {\n",
    "    'C': [0.25, 0.5, 1],\n",
    "    'solver': ['liblinear','lbfgs','newton-cg'],\n",
    "    'max_iter': [1000]\n",
    "}\n",
    "\n",
    "clf = LogisticRegression()\n",
    "search = GridSearchCV(clf, params, cv=5, scoring='f1_micro').fit(X,y)\n",
    "print(search.best_params_)\n",
    "print(classification_report(y_test, search.predict(X_test), target_names=['Property Damage', 'Injury']))"
   ]
  },
  {
   "cell_type": "code",
   "execution_count": 107,
   "metadata": {},
   "outputs": [
    {
     "name": "stdout",
     "output_type": "stream",
     "text": [
      "{'criterion': 'gini', 'max_features': 3}\n",
      "                 precision    recall  f1-score   support\n",
      "\n",
      "Property Damage       0.58      0.73      0.65     11662\n",
      "         Injury       0.64      0.47      0.55     11614\n",
      "\n",
      "       accuracy                           0.60     23276\n",
      "      macro avg       0.61      0.60      0.60     23276\n",
      "   weighted avg       0.61      0.60      0.60     23276\n",
      "\n"
     ]
    }
   ],
   "source": [
    "params = {\n",
    "    'max_features': [1, 3,5, None],\n",
    "    'criterion': ['gini','entropy']\n",
    "}\n",
    "\n",
    "clf = DecisionTreeClassifier()\n",
    "search = GridSearchCV(clf, params, cv=5, scoring='f1_micro').fit(X,y)\n",
    "print(search.best_params_)\n",
    "print(classification_report(y_test, search.predict(X_test), target_names=['Property Damage', 'Injury']))"
   ]
  },
  {
   "cell_type": "code",
   "execution_count": 109,
   "metadata": {},
   "outputs": [
    {
     "name": "stdout",
     "output_type": "stream",
     "text": [
      "{'n_neighbors': 7}\n",
      "                 precision    recall  f1-score   support\n",
      "\n",
      "Property Damage       0.50      1.00      0.67     11662\n",
      "         Injury       0.65      0.00      0.00     11614\n",
      "\n",
      "       accuracy                           0.50     23276\n",
      "      macro avg       0.58      0.50      0.33     23276\n",
      "   weighted avg       0.58      0.50      0.34     23276\n",
      "\n"
     ]
    }
   ],
   "source": [
    "params = {\n",
    "    'n_neighbors': [3, 5, 7],\n",
    "}\n",
    "\n",
    "clf = KNeighborsClassifier()\n",
    "search = GridSearchCV(clf, params, cv=5, scoring='f1_micro').fit(X,y)\n",
    "print(search.best_params_)\n",
    "print(classification_report(y_test, search.predict(X_test), target_names=['Property Damage', 'Injury']))"
   ]
  },
  {
   "cell_type": "markdown",
   "metadata": {},
   "source": [
    "Parameter tuning isn't having the desired effect so the last thing I'd like to try to improve the model is to be even more strict with the features we are using. And drop anything with less than 0.02 correlation."
   ]
  },
  {
   "cell_type": "code",
   "execution_count": 110,
   "metadata": {},
   "outputs": [
    {
     "data": {
      "text/plain": [
       "Alley                                  -0.030665\n",
       "Block                                  -0.197414\n",
       "Intersection                            0.211665\n",
       "WEATHER_Clear                          -0.027478\n",
       "WEATHER_Overcast                        0.016547\n",
       "WEATHER_Raining                         0.039769\n",
       "WEATHER_Snowing                        -0.019640\n",
       "ROADCOND_Dry                           -0.024856\n",
       "ROADCOND_Wet                            0.043591\n",
       "ROADCOND_Ice                           -0.013773\n",
       "ROADCOND_Snow/Slush                    -0.025118\n",
       "LIGHTCOND                               0.011744\n",
       "SEVERITYCODE                            1.000000\n",
       "WEATHER_Snowing_ROADCOND_Snow/Slush    -0.018537\n",
       "WEATHER_Snowing_ROADCOND_Ice           -0.012016\n",
       "WEATHER_Raining_ROADCOND_Wet            0.040022\n",
       "WEATHER_Overcast_ROADCOND_Dry           0.011706\n",
       "WEATHER_Overcast_ROADCOND_Wet           0.013184\n",
       "WEATHER_Clear_ROADCOND_Snow/Slush      -0.012336\n",
       "WEATHER_Overcast_ROADCOND_Snow/Slush   -0.012953\n",
       "WEATHER_Clear_ROADCOND_Dry             -0.027223\n",
       "Name: SEVERITYCODE, dtype: float64"
      ]
     },
     "execution_count": 110,
     "metadata": {},
     "output_type": "execute_result"
    }
   ],
   "source": [
    "df_final.corr()['SEVERITYCODE']"
   ]
  },
  {
   "cell_type": "code",
   "execution_count": 119,
   "metadata": {},
   "outputs": [
    {
     "data": {
      "image/png": "[encoded data removed]",
      "text/plain": [
       "<Figure size 936x288 with 3 Axes>"
      ]
     },
     "metadata": {
      "needs_background": "light"
     },
     "output_type": "display_data"
    }
   ],
   "source": [
    "f,axes = plt.subplots(1,3, figsize=(13,4), sharey=True)\n",
    "sns.countplot(x=df_final['Intersection'], hue=df_final['SEVERITYCODE'], ax=axes[0])\n",
    "sns.countplot(x=df_final['Alley'], hue=df_final['SEVERITYCODE'], ax=axes[1])\n",
    "sns.countplot(x=df_final['Block'], hue=df_final['SEVERITYCODE'], ax=axes[2])\n",
    "plt.show()"
   ]
  },
  {
   "cell_type": "code",
   "execution_count": 121,
   "metadata": {},
   "outputs": [
    {
     "data": {
      "image/png": "[encoded data removed]",
      "text/plain": [
       "<Figure size 936x288 with 2 Axes>"
      ]
     },
     "metadata": {
      "needs_background": "light"
     },
     "output_type": "display_data"
    }
   ],
   "source": [
    "f,axes = plt.subplots(1,2, figsize=(13,4), sharey=True)\n",
    "sns.countplot(x=df_final['WEATHER_Raining_ROADCOND_Wet'], hue=df_final['SEVERITYCODE'], ax=axes[0])\n",
    "sns.countplot(x=df_final['WEATHER_Clear_ROADCOND_Dry'], hue=df_final['SEVERITYCODE'], ax=axes[1])\n",
    "plt.show()"
   ]
  },
  {
   "cell_type": "code",
   "execution_count": 116,
   "metadata": {},
   "outputs": [],
   "source": [
    "# ,'WEATHER_Raining','ROADCOND_Wet','ROADCOND_Ice'\n",
    "# ,'Alley','Block','Intersection'\n",
    "# X = df_final.drop(['SEVERITYCODE','Alley','Block', 'Intersection',\n",
    "#                    'WEATHER_Raining','ROADCOND_Wet','ROADCOND_Ice','WEATHER_Snowing_ROADCOND_Ice',\n",
    "#                    'WEATHER_Raining_ROADCOND_Wet'], axis=1)\n",
    "\n",
    "X = df_final.drop(['SEVERITYCODE',\n",
    "                   'WEATHER_Overcast','WEATHER_Snowing','ROADCOND_Ice','LIGHTCOND',\n",
    "                   'WEATHER_Snowing_ROADCOND_Snow/Slush','WEATHER_Snowing_ROADCOND_Ice',\n",
    "                   'WEATHER_Overcast_ROADCOND_Dry','WEATHER_Overcast_ROADCOND_Wet',\n",
    "                   'WEATHER_Clear_ROADCOND_Snow/Slush','WEATHER_Overcast_ROADCOND_Snow/Slush'], axis=1)\n",
    "\n",
    "y = df_final['SEVERITYCODE']\n",
    "X_train, X_test, y_train, y_test = train_test_split(X, y, test_size=0.2, random_state=5)"
   ]
  },
  {
   "cell_type": "code",
   "execution_count": 122,
   "metadata": {},
   "outputs": [
    {
     "name": "stdout",
     "output_type": "stream",
     "text": [
      "                 precision    recall  f1-score   support\n",
      "\n",
      "Property Damage       0.58      0.73      0.65     11662\n",
      "         Injury       0.64      0.48      0.55     11614\n",
      "\n",
      "       accuracy                           0.60     23276\n",
      "      macro avg       0.61      0.60      0.60     23276\n",
      "   weighted avg       0.61      0.60      0.60     23276\n",
      "\n"
     ]
    }
   ],
   "source": [
    "clf = LogisticRegression(C=0.25, max_iter=1000, solver='liblinear')\n",
    "clf.fit(X_train, y_train)\n",
    "\n",
    "print(classification_report(y_test, clf.predict(X_test), target_names=['Property Damage', 'Injury']))"
   ]
  },
  {
   "cell_type": "code",
   "execution_count": 113,
   "metadata": {},
   "outputs": [
    {
     "data": {
      "text/plain": [
       "Alley                                      363\n",
       "Block                                    71380\n",
       "Intersection                             43709\n",
       "WEATHER_Clear                            74844\n",
       "WEATHER_Overcast                         16813\n",
       "WEATHER_Raining                          20586\n",
       "WEATHER_Snowing                            490\n",
       "ROADCOND_Dry                             82935\n",
       "ROADCOND_Wet                             29308\n",
       "ROADCOND_Ice                               667\n",
       "ROADCOND_Snow/Slush                        531\n",
       "LIGHTCOND                                77654\n",
       "SEVERITYCODE                            174564\n",
       "WEATHER_Snowing_ROADCOND_Snow/Slush        287\n",
       "WEATHER_Snowing_ROADCOND_Ice                86\n",
       "WEATHER_Raining_ROADCOND_Wet             20026\n",
       "WEATHER_Overcast_ROADCOND_Dry            10012\n",
       "WEATHER_Overcast_ROADCOND_Wet             6566\n",
       "WEATHER_Clear_ROADCOND_Snow/Slush           95\n",
       "WEATHER_Overcast_ROADCOND_Snow/Slush        74\n",
       "WEATHER_Clear_ROADCOND_Dry               71812\n",
       "dtype: int64"
      ]
     },
     "execution_count": 113,
     "metadata": {},
     "output_type": "execute_result"
    }
   ],
   "source": [
    "df_final.sum"
   ]
  },
  {
   "cell_type": "markdown",
   "metadata": {},
   "source": [
    "By removing low impact weather effects and the location types of alley,block,intersection we were able to improve our recall for \"injury\" cases but it reduced our precision. This has its own trade offs but seems like a worse option than before due to the severely hampered prediction power for \"Property Damage\" cases. "
   ]
  },
  {
   "cell_type": "markdown",
   "metadata": {},
   "source": [
    "###  CONCLUSION\n",
    "\n",
    "Our efforts to imrpove our model were unsuccessful which brings us to the conclusion that more data must be acquired in order to move forward. This is especially apparent considering that many of our high correlation features are binary with less than 5% of the total datapoints being \"True\". \n",
    "\n",
    "When this problem is revisted along with collecting a larger dataset we could consider adding/using additional features. Some of these would include location (are there high severity crash hotspots), and time of crash (is there a more dangerous time to drive?). Both of these could improve our model as well being relevant to the use case of locating and shift assignment of EMTs.\n"
   ]
  },
  {
   "cell_type": "code",
   "execution_count": null,
   "metadata": {},
   "outputs": [],
   "source": []
  }
 ],
 "metadata": {
  "kernelspec": {
   "display_name": "Python 3",
   "language": "python",
   "name": "python3"
  },
  "language_info": {
   "codemirror_mode": {
    "name": "ipython",
    "version": 3
   },
   "file_extension": ".py",
   "mimetype": "text/x-python",
   "name": "python",
   "nbconvert_exporter": "python",
   "pygments_lexer": "ipython3",
   "version": "3.7.6"
  }
 },
 "nbformat": 4,
 "nbformat_minor": 4
}
